{
 "cells": [
  {
   "cell_type": "code",
   "execution_count": 1,
   "metadata": {
    "collapsed": true
   },
   "outputs": [],
   "source": [
    "import rpyc\n",
    "import time\n",
    "from IPython.display import display, clear_output"
   ]
  },
  {
   "cell_type": "code",
   "execution_count": 2,
   "metadata": {
    "collapsed": true
   },
   "outputs": [],
   "source": [
    "ROBOT_HOSTNAME = \"ev3dev.local\""
   ]
  },
  {
   "cell_type": "markdown",
   "metadata": {},
   "source": [
    "# Preparation: Start rpyc on the ev3\n",
    "\n",
    "For the remote procedure calls to work, a rpcy server has to be started on the ev3. This can be done by executing the `rpyc_server.sh` file. The commands below perform this action\n",
    "```\n",
    "ssh robot@ev3dev.local\n",
    "maker\n",
    "./rpyc_server.sh\n",
    "```"
   ]
  },
  {
   "cell_type": "markdown",
   "metadata": {},
   "source": [
    "# Establish and test connection"
   ]
  },
  {
   "cell_type": "code",
   "execution_count": 3,
   "metadata": {},
   "outputs": [],
   "source": [
    "conn = rpyc.classic.connect(ROBOT_HOSTNAME)\n",
    "conn.execute(\"print('Hello Slave. I am your master!')\")"
   ]
  },
  {
   "cell_type": "markdown",
   "metadata": {},
   "source": [
    "# Robot setup:\n",
    "\n",
    "1. Plug a large motor into output A\n",
    "2. Plug a medium motor into output B"
   ]
  },
  {
   "cell_type": "markdown",
   "metadata": {},
   "source": [
    "# Test motors\n",
    "This rotates the motors"
   ]
  },
  {
   "cell_type": "code",
   "execution_count": 4,
   "metadata": {},
   "outputs": [],
   "source": [
    "motors = conn.modules['ev3dev2.motor'] \n",
    "m1 = motors.LargeMotor('outA')\n",
    "m1.stop_action = 'brake'\n",
    "m2 = motors.MediumMotor('outB')\n",
    "m2.stop_action = 'brake'"
   ]
  },
  {
   "cell_type": "code",
   "execution_count": 5,
   "metadata": {},
   "outputs": [
    {
     "data": {
      "text/plain": [
       "True"
      ]
     },
     "execution_count": 5,
     "metadata": {},
     "output_type": "execute_result"
    }
   ],
   "source": [
    "m1.run_timed(time_sp=1000, speed_sp=600)\n",
    "m2.run_timed(time_sp=1000, speed_sp=600)\n",
    "m1.wait_until_not_moving()\n",
    "m2.wait_until_not_moving()"
   ]
  },
  {
   "cell_type": "code",
   "execution_count": 6,
   "metadata": {},
   "outputs": [],
   "source": [
    "# change speed dynamicly\n",
    "speeds = [10*i for i in range(0,11)] + [10*i for i in range(9,-11, -1)] + [10*i for i in range(-9, 1)]\n",
    "\n",
    "m2.run_direct(duty_cycle_sp=0)\n",
    "for speed in speeds:\n",
    "    m2.duty_cycle_sp=speed\n",
    "    time.sleep(0.1)\n",
    "m2.stop()\n"
   ]
  },
  {
   "cell_type": "markdown",
   "metadata": {},
   "source": [
    "# Measure angles\n",
    "This measurs the angle of the modium motor for 30s. Try turning it!"
   ]
  },
  {
   "cell_type": "code",
   "execution_count": 7,
   "metadata": {},
   "outputs": [
    {
     "data": {
      "text/plain": [
       "'Angle: 21'"
      ]
     },
     "metadata": {},
     "output_type": "display_data"
    }
   ],
   "source": [
    "# reset motor position\n",
    "m2.position = 0\n",
    "\n",
    "# mesure position in degrees\n",
    "start = time.time()\n",
    "while time.time() - start < 30:\n",
    "    clear_output(wait=True)\n",
    "    display('Angle: ' + str(m2.position))"
   ]
  }
 ],
 "metadata": {
  "kernelspec": {
   "display_name": "Python 3",
   "language": "python",
   "name": "python3"
  },
  "language_info": {
   "codemirror_mode": {
    "name": "ipython",
    "version": 3
   },
   "file_extension": ".py",
   "mimetype": "text/x-python",
   "name": "python",
   "nbconvert_exporter": "python",
   "pygments_lexer": "ipython3",
   "version": "3.6.3"
  }
 },
 "nbformat": 4,
 "nbformat_minor": 2
}
