{
 "cells": [
  {
   "cell_type": "code",
   "execution_count": 200,
   "metadata": {
    "collapsed": true
   },
   "outputs": [],
   "source": [
    "import numpy as np\n",
    "import matplotlib.pyplot as plt\n",
    "import math\n",
    "import rpyc\n",
    "import time\n",
    "from IPython import display\n",
    "import time\n",
    "from sklearn.linear_model import LinearRegression"
   ]
  },
  {
   "cell_type": "code",
   "execution_count": 2,
   "metadata": {},
   "outputs": [],
   "source": [
    "try:\n",
    "    ROBOT_HOSTNAME = \"ev3dev.local\"\n",
    "    conn = rpyc.classic.connect(ROBOT_HOSTNAME)\n",
    "    conn.execute(\"print('Hello Slave. I am your master!')\")\n",
    "except:\n",
    "    raise Exception('No conection to rpyc server on robot possible! Is the robot conneced? Is the rpyc server started?')\n",
    "    \n"
   ]
  },
  {
   "cell_type": "code",
   "execution_count": 3,
   "metadata": {
    "collapsed": true
   },
   "outputs": [],
   "source": [
    "motor_module = conn.modules['ev3dev2.motor']\n",
    "motors = [motor_module.LargeMotor('outB'), motor_module.LargeMotor('outC')]\n",
    "sensors = conn.modules['ev3dev2.sensor.lego'] \n",
    "gyro = sensors.GyroSensor('in2')\n",
    "gyro.mode=\"GYRO-ANG\""
   ]
  },
  {
   "cell_type": "code",
   "execution_count": 32,
   "metadata": {
    "collapsed": true
   },
   "outputs": [],
   "source": [
    "def calibrate_gyro(gyro):\n",
    "    gyro.mode='GYRO-CAL'\n",
    "    time.sleep(1)\n",
    "    gyro.mode=\"GYRO-ANG\"\n",
    "calibrate_gyro(gyro)"
   ]
  },
  {
   "cell_type": "code",
   "execution_count": 35,
   "metadata": {
    "scrolled": true
   },
   "outputs": [
    {
     "data": {
      "text/plain": [
       "5"
      ]
     },
     "metadata": {},
     "output_type": "display_data"
    },
    {
     "data": {
      "text/plain": [
       "0"
      ]
     },
     "metadata": {},
     "output_type": "display_data"
    }
   ],
   "source": [
    "t0 = time.time()\n",
    "\n",
    "while time.time() - t0 < 10:\n",
    "    angle, rate = gyro.rate_and_angle\n",
    "    \n",
    "    display.clear_output(wait=True)\n",
    "    display.display(angle, rate)"
   ]
  },
  {
   "cell_type": "markdown",
   "metadata": {},
   "source": [
    "# Robot controls\n",
    "\n",
    "\n",
    "### Movement speed:\n",
    "Let $p$ be current leg position, $p'$ the requested leg position. We move the leg with speed $s$, where we select $s$ as a function of the distance to travel and the max speed.\n",
    "$$\n",
    "s = \\frac{|p - p'|}{2} s-{max} \\\\\n",
    "s_{min} \\leq s \\leq s_{max}\n",
    "$$\n",
    "We choose $s_{max} = 80\\%$ of the maximum speed the motors are capable of. To ensure that there is some movement, se set a lower bound $s_{min} = 3\\%$. \n",
    "\n",
    "### Robot reset\n",
    "To determine when the robot comes to a standstill, we measure robot acceleration over a 3 second rolling time window. On these windows we perform linear regression, to determine the change in acceleration. If the change is near zero, the acceleration is constant and we assume the robot to be standing still.\n",
    "\n",
    "Due to the inaccuracy of the gyroscope, using acceleration for this has been more successfull than measuring angle.\n",
    "\n",
    "### Gyro calibration"
   ]
  },
  {
   "cell_type": "code",
   "execution_count": 257,
   "metadata": {},
   "outputs": [],
   "source": [
    "class RobotControler:\n",
    "    def __init__(self, connection):\n",
    "        motor_module = connection.modules['ev3dev2.motor']\n",
    "        self.motors = [motor_module.LargeMotor('outB'), motor_module.LargeMotor('outC')]\n",
    "        sensors = conn.modules['ev3dev2.sensor.lego'] \n",
    "        self.gyro = sensors.GyroSensor('in2')\n",
    "        \n",
    "        self.up_position_degrees = -90 # position of legs fully in front\n",
    "        self.maxspeed = 80 # maximum speed of leg movement\n",
    "        self.minspeed = 3 # minimum speed of leg movement\n",
    "        self.angle_normalizer = 0.01\n",
    "        self.rate_normalizer = 0.01\n",
    "        \n",
    "        \n",
    "    \n",
    "    def reset(self):\n",
    "        \"\"\" resets the robot, performs calibration and maintainance, return when robot is reset.\n",
    "        Called at the start of each episode\"\"\"\n",
    "        \n",
    "        # move legs to base position\n",
    "        self._move_motors_to_pos(0, 20)\n",
    "        self._wait_until_no_standstill()\n",
    "        _, angle = self.get_rate_and_angle()\n",
    "        if angle >= 0.01:\n",
    "            print('calibrating gyro')\n",
    "            self._calibrate_gyro()\n",
    "        return\n",
    "    \n",
    "    def get_rate_and_angle(self):\n",
    "        \"\"\" returns the rate and angle of the robot movement\"\"\"\n",
    "        angle, rate = self.gyro.rate_and_angle\n",
    "        return (rate * self.rate_normalizer, angle * self.angle_normalizer)\n",
    "    \n",
    "    def get_current_leg_pos(self):\n",
    "        \"\"\" returns the curent leg pos, on a [-1, 1] interval\"\"\"\n",
    "        return self.motors[0].position /  self.up_position_degrees\n",
    "    \n",
    "    def move_legs(self, pos):\n",
    "        \"\"\" instructs the robot where to move its legs to, on a [-1, 1] interval. Function returns immediatly.\"\"\"\n",
    "        pos = max(-1., min(pos, 1.))\n",
    "        pos_now = self.get_current_leg_pos()\n",
    "        \n",
    "        s = abs(pos - pos_now) / 2 *  self.maxspeed\n",
    "        s = max(self.minspeed, min(s,  self.maxspeed))\n",
    "        \n",
    "        self._move_motors_to_pos(pos, s)\n",
    "        return\n",
    "    \n",
    "    def _move_motors_to_pos(self, pos, speed):\n",
    "        \"\"\"\n",
    "        moves the motors to a position [-1, 1] at speed [0,100].\n",
    "        \"\"\"\n",
    "        assert -1. <= pos <= 1.,\\\n",
    "                    \"{} is an invalid position, must be between -1 and 1 (inclusive)\".format(pos)\n",
    "        assert 0. <= speed <= 100.,\\\n",
    "                    \"{} is an invalid position, must be between -1 and 1 (inclusive)\".format(pos)\n",
    "        for m in self.motors:\n",
    "                m.on_to_position(speed, position=pos*self.up_position_degrees, brake=True, block=False) # moves motors, non blocking.\n",
    "                \n",
    "    def _calibrate_gyro(self):\n",
    "        self.gyro.mode='GYRO-CAL'\n",
    "        time.sleep(1)\n",
    "        self.gyro.mode=\"GYRO-ANG\"\n",
    "        \n",
    "    def _wait_until_no_standstill(self):\n",
    "        \"\"\"\n",
    "        waits until the gyro acceleration does not change for 3 seconds\n",
    "        \"\"\"\n",
    "        change = 9999\n",
    "        while abs(change) > 0.01: \n",
    "\n",
    "            rates = []\n",
    "            times = []\n",
    "            # sample for one second\n",
    "            t0 = t = time.time()\n",
    "            while t - t0 < 3:\n",
    "                _, rate = self.gyro.rate_and_angle\n",
    "                rates.append(rate)\n",
    "                t = time.time()\n",
    "                times.append(t)\n",
    "\n",
    "\n",
    "            # check change in accel with linreg\n",
    "            rates = abs(np.array(rates)) # take absolute rates so swinging doesnt cancel each other out\n",
    "            times = np.array(times)\n",
    "            lr = LinearRegression()\n",
    "            lr.fit(times[:, np.newaxis], rates)  \n",
    "            change = lr.coef_\n",
    "            print(\"Waiting to stand still. Avg acceleration in previous 3s: {}\".format(change[0]))\n",
    "\n",
    "        return"
   ]
  },
  {
   "cell_type": "code",
   "execution_count": 243,
   "metadata": {
    "collapsed": true
   },
   "outputs": [],
   "source": [
    "rc = RobotControler(conn)"
   ]
  },
  {
   "cell_type": "code",
   "execution_count": 253,
   "metadata": {},
   "outputs": [
    {
     "data": {
      "text/plain": [
       "(0.0, 0.0)"
      ]
     },
     "execution_count": 253,
     "metadata": {},
     "output_type": "execute_result"
    }
   ],
   "source": [
    "rc.get_rate_and_angle()"
   ]
  },
  {
   "cell_type": "markdown",
   "metadata": {},
   "source": [
    "# Validation Experiment\n",
    "We reset the robot, then move the legs forward and plot the result"
   ]
  },
  {
   "cell_type": "code",
   "execution_count": 255,
   "metadata": {},
   "outputs": [
    {
     "name": "stdout",
     "output_type": "stream",
     "text": [
      "Waiting to stand still. Avg acceleration in previous 3s: -2.933701940987755\n",
      "Waiting to stand still. Avg acceleration in previous 3s: -0.4790481599020952\n",
      "Waiting to stand still. Avg acceleration in previous 3s: 0.0\n"
     ]
    }
   ],
   "source": [
    "rc = RobotControler(conn)\n",
    "rc.reset()\n",
    "\n",
    "timesteps = []\n",
    "angles = []\n",
    "speed= []\n",
    "\n",
    "rc.move_legs(1)\n",
    "\n",
    "t0 = time.time()\n",
    "\n",
    "while time.time() - t0 < 5:\n",
    "    rate, angle = rc.get_rate_and_angle()\n",
    "    t = time.time() - t0\n",
    "    timesteps.append(t)\n",
    "    angles.append(angle)\n",
    "    speed.append(rate)"
   ]
  },
  {
   "cell_type": "code",
   "execution_count": 256,
   "metadata": {},
   "outputs": [
    {
     "data": {
      "image/png": "[encoded data removed]",
      "text/plain": [
       "<matplotlib.figure.Figure at 0x7f7d23456b00>"
      ]
     },
     "metadata": {},
     "output_type": "display_data"
    }
   ],
   "source": [
    "timesteps = np.array(timesteps)\n",
    "angles = np.array(angles) / rc.angle_normalizer\n",
    "maxangle = max(abs(angles))\n",
    "speed= np.array(speed) / rc.rate_normalizer\n",
    "maxspeed = max(abs(speed))\n",
    "\n",
    "c0 = '#1f77b4'\n",
    "c1 = '#ff7f0e'\n",
    "fig, ax1 = plt.subplots()\n",
    "ax1.plot(timesteps, angles, label=\"Swing Angle in Degrees\", color=c0)\n",
    "ax1.set_xlabel('time (s)')\n",
    "ax1.set_ylabel('Swing angle in Degrees', color=c0)\n",
    "ax1.tick_params('y', colors=c0)\n",
    "ax1.set_ylim(-maxangle * 1.1 , maxangle * 1.1)\n",
    "ax2 = ax1.twinx()\n",
    "ax2.plot(timesteps, speed, label=\"Swing Velocity, in degrees / s\", color=c1)\n",
    "ax2.set_ylabel('Swing velocity in Degrees / s', color=c1)\n",
    "ax2.tick_params('y', colors=c1)\n",
    "ax2.set_ylim(-maxspeed * 1.1, maxspeed * 1.1)\n",
    "plt.axhline(0, color='gray')\n",
    "plt.xlabel(\"time $t$ in s\")\n",
    "plt.title('Robot swinging after one leg movement')\n",
    "plt.savefig('pendulum.pdf')\n",
    "plt.show()"
   ]
  }
 ],
 "metadata": {
  "kernelspec": {
   "display_name": "Python 3",
   "language": "python",
   "name": "python3"
  },
  "language_info": {
   "codemirror_mode": {
    "name": "ipython",
    "version": 3
   },
   "file_extension": ".py",
   "mimetype": "text/x-python",
   "name": "python",
   "nbconvert_exporter": "python",
   "pygments_lexer": "ipython3",
   "version": "3.6.3"
  }
 },
 "nbformat": 4,
 "nbformat_minor": 2
}
