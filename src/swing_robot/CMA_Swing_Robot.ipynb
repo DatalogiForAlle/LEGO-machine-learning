{
 "cells": [
  {
   "cell_type": "markdown",
   "metadata": {},
   "source": [
    "# CMA for CartPole"
   ]
  },
  {
   "cell_type": "code",
   "execution_count": 2,
   "metadata": {},
   "outputs": [],
   "source": [
    "import tensorflow as tf\n",
    "import numpy as np\n",
    "import matplotlib.pyplot as plt\n",
    "import cma\n",
    "import numpy as np\n",
    "import math\n",
    "import rpyc\n",
    "from IPython import display\n",
    "import time\n",
    "from sklearn.linear_model import LinearRegression"
   ]
  },
  {
   "cell_type": "code",
   "execution_count": 4,
   "metadata": {},
   "outputs": [],
   "source": [
    "try:\n",
    "    ROBOT_HOSTNAME = \"ev3dev.local\"\n",
    "    conn = rpyc.classic.connect(ROBOT_HOSTNAME)\n",
    "    conn.execute(\"print('Hello Slave. I am your master!')\")\n",
    "except:\n",
    "    raise Exception('No conection to rpyc server on robot possible! Is the robot conneced? Is the rpyc server started?')\n",
    "    \n"
   ]
  },
  {
   "cell_type": "code",
   "execution_count": 84,
   "metadata": {},
   "outputs": [],
   "source": [
    "class RobotControllerVerboseWrapper(RobotControler):\n",
    "    \"\"\"\n",
    "    Wrapper / decorator for the robot controller to add verbose logging\n",
    "    for design pattern see https://github.com/faif/python-patterns/blob/master/structural/decorator.py\n",
    "    \"\"\"\n",
    "    def __init__(self, robotControler):\n",
    "        self.wrapped = robotControler\n",
    "        self.last_move = time.time()\n",
    "        \n",
    "    def reset(self):\n",
    "        return self.wrapped.reset()\n",
    "    \n",
    "    def get_rate_and_angle(self):\n",
    "        return self.wrapped.get_rate_and_angle()\n",
    "    \n",
    "    def get_current_leg_pos(self):\n",
    "        return self.wrapped.get_current_leg_pos()\n",
    "    \n",
    "    def move_legs(self, pos):\n",
    "        print(\"Moving legs to {}, time since last move {}\".format(pos, time.time() - self.last_move))\n",
    "        self.last_move = time.time()\n",
    "        return self.wrapped.move_legs(pos)\n",
    "\n",
    "class RobotControllerExceptionWrapper(RobotControler):\n",
    "    \"\"\"\n",
    "    Wrapper / decorator for the robot controller to handle time out exceptions\n",
    "    for design pattern see https://github.com/faif/python-patterns/blob/master/structural/decorator.py\n",
    "    \"\"\"\n",
    "    def __init__(self, robotControler):\n",
    "        self.wrapped = robotControler\n",
    "        \n",
    "    def reset(self):\n",
    "        try:\n",
    "            return self.wrapped.reset()\n",
    "        except TimeoutError:\n",
    "            print('TimeoutError occured! retrying...')\n",
    "            time.sleep(3)\n",
    "            return self.reset()\n",
    "    \n",
    "    def get_rate_and_angle(self):\n",
    "        try:\n",
    "            return self.wrapped.get_rate_and_angle()\n",
    "        except TimeoutError:\n",
    "            print('TimeoutError occured! retrying...')\n",
    "            time.sleep(3)\n",
    "            return self.get_rate_and_angle()\n",
    "    \n",
    "    def get_current_leg_pos(self):\n",
    "        try:\n",
    "            return self.wrapped.get_current_leg_pos()\n",
    "        except TimeoutError:\n",
    "            print('TimeoutError occured! retrying...')\n",
    "            time.sleep(3)\n",
    "            return self.get_current_leg_pos()\n",
    "    \n",
    "    def move_legs(self, pos):\n",
    "        try:\n",
    "            return self.wrapped.move_legs(pos)\n",
    "        except TimeoutError:\n",
    "            print('TimeoutError occured! retrying...')\n",
    "            time.sleep(3)\n",
    "            return self.move_legs(pos)\n",
    "            \n",
    "\n",
    "class RobotController:\n",
    "    \"\"\"\n",
    "    The robot controller class.\n",
    "    \"\"\"\n",
    "    def __init__(self, connection):\n",
    "        motor_module = connection.modules['ev3dev2.motor']\n",
    "        self.motors = [motor_module.LargeMotor('outB'), motor_module.LargeMotor('outC')]\n",
    "        sensors = conn.modules['ev3dev2.sensor.lego'] \n",
    "        self.gyro = sensors.GyroSensor('in2')\n",
    "        \n",
    "        self.motors[0].stop_action = 'hold'\n",
    "        self.motors[1].stop_action = 'coast'\n",
    "        \n",
    "        self.up_position_degrees = -90 # position of legs fully in front\n",
    "        self.maxspeed = 80 # maximum speed of leg movement\n",
    "        self.minspeed = 3 # minimum speed of leg movement\n",
    "        self.angle_normalizer = 0.01\n",
    "        self.rate_normalizer = 0.01\n",
    "        \n",
    "        \n",
    "    \n",
    "    def reset(self):\n",
    "        \"\"\" resets the robot, performs calibration and maintainance, return when robot is reset.\n",
    "        Called at the start of each episode\"\"\"\n",
    "        # move legs to base position\n",
    "        self._move_motors_to_pos(0, 20)\n",
    "        self._wait_until_no_standstill(tolerance = 0.05)\n",
    "        _, angle = self.get_rate_and_angle()\n",
    "        if abs(angle) >= 0.04:\n",
    "            # drifted pretty far, recalibrate\n",
    "            self._wait_until_no_standstill(tolerance = 0.01)\n",
    "            self._calibrate_gyro()\n",
    "            return\n",
    "    \n",
    "    def get_rate_and_angle(self):\n",
    "        \"\"\" returns the rate and angle of the robot movement\"\"\"\n",
    "        angle, rate = self.gyro.rate_and_angle\n",
    "        return (rate * self.rate_normalizer, angle * self.angle_normalizer)\n",
    "\n",
    "    def get_current_leg_pos(self):\n",
    "        \"\"\" returns the curent leg pos, on a [-1, 1] interval\"\"\"\n",
    "        return self.motors[0].position /  self.up_position_degrees\n",
    "    \n",
    "    def move_legs(self, pos):\n",
    "        \"\"\" instructs the robot where to move its legs to, on a [-1, 1] interval. Function returns immediatly.\"\"\"\n",
    "        pos = max(-1., min(pos, 1.))\n",
    "        pos_now = self.get_current_leg_pos()\n",
    "        \n",
    "        s = abs(pos - pos_now) / 2 *  self.maxspeed\n",
    "        s = max(self.minspeed, min(s,  self.maxspeed))\n",
    "        \n",
    "        self._move_motors_to_pos(pos, s)\n",
    "        return\n",
    "    \n",
    "    def _move_motors_to_pos(self, pos, speed):\n",
    "        \"\"\"\n",
    "        moves the motors to a position [-1, 1] at speed [0,100].\n",
    "        \"\"\"\n",
    "        assert -1. <= pos <= 1.,\\\n",
    "                    \"{} is an invalid position, must be between -1 and 1 (inclusive)\".format(pos)\n",
    "        assert 0. <= speed <= 100.,\\\n",
    "                    \"{} is an invalid position, must be between -1 and 1 (inclusive)\".format(pos)\n",
    "        \n",
    "        self.motors[0].on_to_position(speed, position=pos*self.up_position_degrees, brake=True, block=False) # moves motors, non blocking.\n",
    "        return\n",
    "            \n",
    "            \n",
    "    def _calibrate_gyro(self):\n",
    "        print('calibrating gyro')\n",
    "        self.gyro.mode='GYRO-CAL'\n",
    "        time.sleep(1)\n",
    "        self.gyro.mode=\"GYRO-ANG\"\n",
    "        \n",
    "    def _wait_until_no_standstill(self, tolerance=0.01):\n",
    "        \"\"\"\n",
    "        waits until the gyro acceleration does not change for 3 seconds\n",
    "        \"\"\"\n",
    "        print(\"Waiting to stand still.\")\n",
    "        change = 9999\n",
    "        while abs(change) > tolerance: \n",
    "\n",
    "            rates = []\n",
    "            times = []\n",
    "            # sample for one second\n",
    "            t0 = t = time.time()\n",
    "            while t - t0 < 3:\n",
    "                _, rate = self.gyro.rate_and_angle\n",
    "                rates.append(rate)\n",
    "                t = time.time()\n",
    "                times.append(t)\n",
    "\n",
    "\n",
    "            # check change in accel with linreg\n",
    "            rates = abs(np.array(rates)) # take absolute rates so swinging doesnt cancel each other out\n",
    "            times = np.array(times)\n",
    "            lr = LinearRegression()\n",
    "            lr.fit(times[:, np.newaxis], rates)  \n",
    "            change = lr.coef_\n",
    "\n",
    "        return\n",
    "        "
   ]
  },
  {
   "cell_type": "code",
   "execution_count": 6,
   "metadata": {
    "collapsed": true
   },
   "outputs": [],
   "source": [
    "# Helper functions for setting the parameters of the neural network\n",
    "def number_of_trainable_parameters(session):\n",
    "    variables_names = [v.name for v in tf.trainable_variables()]\n",
    "    values = session.run(variables_names)    \n",
    "    number_of_parameters = 0\n",
    "    for v in values:\n",
    "        number_of_parameters += v.size\n",
    "    return number_of_parameters\n",
    "\n",
    "def set_trainable_parameters(session, parameter_vector):\n",
    "    assert number_of_trainable_parameters(session) == parameter_vector.size, \\\n",
    "      'number of parameters do not match: %r vs. %r' % (number_of_trainable_parameters(session), parameter_vector.size)\n",
    "    variables_names = [v.name for v in tf.trainable_variables()]\n",
    "    values = session.run(variables_names) \n",
    "    idx = 0\n",
    "    for k, v in zip(tf.trainable_variables(), values):    \n",
    "        new_value = parameter_vector[idx:idx + v.size].reshape(v.shape)\n",
    "        k.load(new_value, session)  # load does not add a new node to the graph\n",
    "        idx += v.size"
   ]
  },
  {
   "cell_type": "code",
   "execution_count": 13,
   "metadata": {
    "collapsed": true
   },
   "outputs": [],
   "source": [
    "# Simple evaluation function, just considering a single (random) start state\n",
    "def swing_motion(x, sess):\n",
    "    # set params to NN\n",
    "    set_trainable_parameters(sess, x)\n",
    "    \n",
    "    # reset swing\n",
    "    rc.reset()\n",
    "    \n",
    "    # simulate\n",
    "    reward = 0\n",
    "    starttime = time.time()\n",
    "    rate, angle = rc.get_rate_and_angle()\n",
    "    while time.time()-starttime <30 :\n",
    "        state = np.array((rate, angle, rc.get_current_leg_pos()))\n",
    "        \n",
    "        out = sess.run(action, {inputs: state.reshape(1,*state.shape)})[0][0]\n",
    "        rc.move_legs(out)\n",
    "        \n",
    "        rate, angle = rc.get_rate_and_angle()\n",
    "        reward = max(reward, abs(rate))\n",
    "    \n",
    "    # log rewards of session\n",
    "    print(\"total reward for session: \",reward)\n",
    "    weights.append(x)\n",
    "    timestep.append(starttime)\n",
    "    rewards.append(reward)\n",
    "    return -reward"
   ]
  },
  {
   "cell_type": "code",
   "execution_count": 24,
   "metadata": {
    "collapsed": true
   },
   "outputs": [],
   "source": [
    "\n",
    "state_space_dimension = 3\n",
    "number_of_actions = 1\n",
    "number_of_hidden_neurons = 2\n",
    "\n"
   ]
  },
  {
   "cell_type": "code",
   "execution_count": 93,
   "metadata": {},
   "outputs": [],
   "source": [
    "weights = []\n",
    "timestep = []\n",
    "rewards = []\n",
    "\n",
    "rc = RobotControllerExceptionWrapper(RobotController(conn))"
   ]
  },
  {
   "cell_type": "code",
   "execution_count": null,
   "metadata": {},
   "outputs": [
    {
     "name": "stdout",
     "output_type": "stream",
     "text": [
      "(4_w,8)-aCMA-ES (mu_w=2.6,w_1=52%) in dimension 4 (seed=588418, Mon Jan 14 19:43:17 2019)\n",
      "Waiting to stand still.\n"
     ]
    }
   ],
   "source": [
    "tf.reset_default_graph()\n",
    "\n",
    "# Define policy network mapping state to action\n",
    "with tf.name_scope('policy_network'):\n",
    "    inputs = tf.placeholder(shape=[1, state_space_dimension],dtype=tf.float32) \n",
    "    #hidden = tf.layers.dense(inputs, number_of_hidden_neurons, activation=tf.tanh, use_bias=True)\n",
    "    action = tf.layers.dense(inputs, number_of_actions, activation=tf.tanh, use_bias=True)\n",
    "\n",
    "# Do the learning\n",
    "init = tf.global_variables_initializer()\n",
    "with tf.Session() as sess:\n",
    "    sess.run(init)\n",
    "    sess.graph.finalize()  # graph is read-only after this statement\n",
    "    #initial_weights = np.random.normal(0, 0.1, number_of_trainable_parameters(sess))\n",
    "    # best guess for starting weights: \n",
    "    #     small bias of 0.2 to start the movement\n",
    "    #     large weight to move in the direction of the rate\n",
    "    #     smaller negative weight to move less extreme when on a far end\n",
    "    #     no factor for current  leg position, dont know what to take here\n",
    "    initial_weights = np.array([0.2, 10, -5, 0]) \n",
    "    res = cma.fmin(swing_motion, initial_weights, 1, {'timeout': 15 * 60**2, 'ftarget':-4.,}, args=([sess]), restart_from_best=True)"
   ]
  },
  {
   "cell_type": "code",
   "execution_count": 90,
   "metadata": {},
   "outputs": [
    {
     "data": {
      "text/plain": [
       "[array([  0.34711997,  11.07266434,  -5.79505983,   1.0993171 ]),\n",
       " array([  0.47276383,  11.56791681,  -5.15646722,  -1.63425015]),\n",
       " array([  0.52758395,  10.58858038,  -5.31733644,  -0.88362596]),\n",
       " array([ 1.2518449 ,  9.50528327, -3.51614206,  0.69607123]),\n",
       " array([  1.19426518,  10.05753765,  -5.68917123,  -1.3402381 ]),\n",
       " array([  0.220592  ,  10.52435231,  -4.67890486,   0.63580473]),\n",
       " array([  0.88236129,  10.77981259,  -5.99898783,  -1.41985678]),\n",
       " array([ 0.73945717,  9.65760295, -4.7226117 , -0.31494239]),\n",
       " array([ 0.63430316,  9.66949661, -2.40652148,  0.56691705]),\n",
       " array([ 1.58496894,  9.89564531, -3.29382014, -1.68824653]),\n",
       " array([-0.21719522,  9.66978252, -4.18272987, -0.41659286]),\n",
       " array([  1.43722909,  11.43560349,  -3.55909927,  -0.58617087]),\n",
       " array([ 1.08067225,  9.28879219, -3.97915654, -0.41638443]),\n",
       " array([ 1.17327013,  8.56944006, -3.72340097, -0.78859008]),\n",
       " array([  0.58654138,  10.30210889,  -3.30642588,   1.21779159]),\n",
       " array([  1.93692369,  10.0679225 ,  -4.50232145,   0.32199921]),\n",
       " array([  0.27262238,  10.87030381,  -5.1343942 ,   1.45057778]),\n",
       " array([  1.58012163,  10.02286723,  -2.8074854 ,   0.71732646]),\n",
       " array([  0.21588366,  10.00759228,  -2.09798199,   0.85333844]),\n",
       " array([ 0.58267908,  9.47950039, -7.21532547, -0.9250814 ])]"
      ]
     },
     "execution_count": 90,
     "metadata": {},
     "output_type": "execute_result"
    }
   ],
   "source": [
    "weights"
   ]
  },
  {
   "cell_type": "code",
   "execution_count": 91,
   "metadata": {},
   "outputs": [
    {
     "data": {
      "text/plain": [
       "[0.58,\n",
       " 0.54,\n",
       " 0.52,\n",
       " 0.59,\n",
       " 0.58,\n",
       " 0.55,\n",
       " 0.59,\n",
       " 0.68,\n",
       " 0.48,\n",
       " 0.39,\n",
       " 0.56,\n",
       " 0.43,\n",
       " 0.52,\n",
       " 0.64,\n",
       " 0.6900000000000001,\n",
       " 0.55,\n",
       " 0.51,\n",
       " 0.53,\n",
       " 0.35000000000000003,\n",
       " 0.56]"
      ]
     },
     "execution_count": 91,
     "metadata": {},
     "output_type": "execute_result"
    }
   ],
   "source": [
    "rewards"
   ]
  },
  {
   "cell_type": "code",
   "execution_count": 92,
   "metadata": {},
   "outputs": [
    {
     "data": {
      "image/png": "[encoded data removed]",
      "text/plain": [
       "<matplotlib.figure.Figure at 0x7f2c185b8cf8>"
      ]
     },
     "metadata": {},
     "output_type": "display_data"
    },
    {
     "data": {
      "text/plain": [
       "<cma.evolution_strategy.CMADataLogger at 0x7f2c3803d4e0>"
      ]
     },
     "execution_count": 92,
     "metadata": {},
     "output_type": "execute_result"
    }
   ],
   "source": [
    "cma.plot()"
   ]
  }
 ],
 "metadata": {
  "kernelspec": {
   "display_name": "Python 3",
   "language": "python",
   "name": "python3"
  },
  "language_info": {
   "codemirror_mode": {
    "name": "ipython",
    "version": 3
   },
   "file_extension": ".py",
   "mimetype": "text/x-python",
   "name": "python",
   "nbconvert_exporter": "python",
   "pygments_lexer": "ipython3",
   "version": "3.6.3"
  }
 },
 "nbformat": 4,
 "nbformat_minor": 2
}
