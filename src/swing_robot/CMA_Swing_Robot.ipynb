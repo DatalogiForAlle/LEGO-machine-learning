{
 "cells": [
  {
   "cell_type": "markdown",
   "metadata": {},
   "source": [
    "# CMA for CartPole"
   ]
  },
  {
   "cell_type": "code",
   "execution_count": 1,
   "metadata": {},
   "outputs": [
    {
     "name": "stderr",
     "output_type": "stream",
     "text": [
      "C:\\Users\\Staris\\Anaconda3\\lib\\site-packages\\h5py\\__init__.py:36: FutureWarning: Conversion of the second argument of issubdtype from `float` to `np.floating` is deprecated. In future, it will be treated as `np.float64 == np.dtype(float).type`.\n",
      "  from ._conv import register_converters as _register_converters\n"
     ]
    }
   ],
   "source": [
    "import gym\n",
    "import tensorflow as tf\n",
    "import numpy as np\n",
    "import matplotlib.pyplot as plt\n",
    "import cma\n",
    "import numpy as np\n",
    "import math\n",
    "import rpyc\n",
    "from IPython import display\n",
    "import time\n",
    "from sklearn.linear_model import LinearRegression"
   ]
  },
  {
   "cell_type": "code",
   "execution_count": 2,
   "metadata": {},
   "outputs": [],
   "source": [
    "try:\n",
    "    ROBOT_HOSTNAME = \"192.168.137.132\"\n",
    "    conn = rpyc.classic.connect(ROBOT_HOSTNAME)\n",
    "    conn.execute(\"print('Hello Slave. I am your master!')\")\n",
    "except:\n",
    "    raise Exception('No conection to rpyc server on robot possible! Is the robot conneced? Is the rpyc server started?')\n",
    "    \n"
   ]
  },
  {
   "cell_type": "code",
   "execution_count": 3,
   "metadata": {},
   "outputs": [],
   "source": [
    "class RobotControler:\n",
    "    def __init__(self, connection):\n",
    "        motor_module = connection.modules['ev3dev2.motor']\n",
    "        self.motors = [motor_module.LargeMotor('outB'), motor_module.LargeMotor('outC')]\n",
    "        sensors = conn.modules['ev3dev2.sensor.lego'] \n",
    "        self.gyro = sensors.GyroSensor('in2')\n",
    "        \n",
    "        self.up_position_degrees = -90 # position of legs fully in front\n",
    "        self.maxspeed = 80 # maximum speed of leg movement\n",
    "        self.minspeed = 3 # minimum speed of leg movement\n",
    "        self.angle_normalizer = 0.01\n",
    "        self.rate_normalizer = 0.01\n",
    "        \n",
    "        \n",
    "    \n",
    "    def reset(self):\n",
    "        \"\"\" resets the robot, performs calibration and maintainance, return when robot is reset.\n",
    "        Called at the start of each episode\"\"\"\n",
    "        \n",
    "        # move legs to base position\n",
    "        self._move_motors_to_pos(0, 20)\n",
    "        self._wait_until_no_standstill()\n",
    "        _, angle = self.get_rate_and_angle()\n",
    "        if angle >= 0.01:\n",
    "            print('calibrating gyro')\n",
    "            self._calibrate_gyro()\n",
    "        return\n",
    "    \n",
    "    def get_rate_and_angle(self):\n",
    "        \"\"\" returns the rate and angle of the robot movement\"\"\"\n",
    "        angle, rate = self.gyro.rate_and_angle\n",
    "        return (rate * self.rate_normalizer, angle * self.angle_normalizer)\n",
    "    \n",
    "    def get_current_leg_pos(self):\n",
    "        \"\"\" returns the curent leg pos, on a [-1, 1] interval\"\"\"\n",
    "        return self.motors[0].position /  self.up_position_degrees\n",
    "    \n",
    "    def move_legs(self, pos):\n",
    "        \"\"\" instructs the robot where to move its legs to, on a [-1, 1] interval. Function returns immediatly.\"\"\"\n",
    "        pos = max(-1., min(pos, 1.))\n",
    "        pos_now = self.get_current_leg_pos()\n",
    "        \n",
    "        s = abs(pos - pos_now) / 2 *  self.maxspeed\n",
    "        s = max(self.minspeed, min(s,  self.maxspeed))\n",
    "        \n",
    "        self._move_motors_to_pos(pos, s)\n",
    "        return\n",
    "    \n",
    "    def _move_motors_to_pos(self, pos, speed):\n",
    "        \"\"\"\n",
    "        moves the motors to a position [-1, 1] at speed [0,100].\n",
    "        \"\"\"\n",
    "        assert -1. <= pos <= 1.,\\\n",
    "                    \"{} is an invalid position, must be between -1 and 1 (inclusive)\".format(pos)\n",
    "        assert 0. <= speed <= 100.,\\\n",
    "                    \"{} is an invalid position, must be between -1 and 1 (inclusive)\".format(pos)\n",
    "        for m in self.motors:\n",
    "                m.on_to_position(speed, position=pos*self.up_position_degrees, brake=True, block=False) # moves motors, non blocking.\n",
    "                \n",
    "    def _calibrate_gyro(self):\n",
    "        self.gyro.mode='GYRO-CAL'\n",
    "        time.sleep(1)\n",
    "        self.gyro.mode=\"GYRO-ANG\"\n",
    "        \n",
    "    def _wait_until_no_standstill(self):\n",
    "        \"\"\"\n",
    "        waits until the gyro acceleration does not change for 3 seconds\n",
    "        \"\"\"\n",
    "        change = 9999\n",
    "        while abs(change) > 0.01: \n",
    "\n",
    "            rates = []\n",
    "            times = []\n",
    "            # sample for one second\n",
    "            t0 = t = time.time()\n",
    "            while t - t0 < 3:\n",
    "                _, rate = self.gyro.rate_and_angle\n",
    "                rates.append(rate)\n",
    "                t = time.time()\n",
    "                times.append(t)\n",
    "\n",
    "\n",
    "            # check change in accel with linreg\n",
    "            rates = abs(np.array(rates)) # take absolute rates so swinging doesnt cancel each other out\n",
    "            times = np.array(times)\n",
    "            lr = LinearRegression()\n",
    "            lr.fit(times[:, np.newaxis], rates)  \n",
    "            change = lr.coef_\n",
    "            print(\"Waiting to stand still. Avg acceleration in previous 3s: {}\".format(change[0]))\n",
    "\n",
    "        return"
   ]
  },
  {
   "cell_type": "code",
   "execution_count": 7,
   "metadata": {},
   "outputs": [],
   "source": [
    "# Helper functions for setting the parameters of the neural network\n",
    "def number_of_trainable_parameters(session):\n",
    "    variables_names = [v.name for v in tf.trainable_variables()]\n",
    "    values = session.run(variables_names)    \n",
    "    number_of_parameters = 0\n",
    "    for v in values:\n",
    "        number_of_parameters += v.size\n",
    "    return number_of_parameters\n",
    "\n",
    "def set_trainable_parameters(session, parameter_vector):\n",
    "    assert number_of_trainable_parameters(session) == parameter_vector.size, \\\n",
    "      'number of parameters do not match: %r vs. %r' % (number_of_trainable_parameters(session), parameter_vector.size)\n",
    "    variables_names = [v.name for v in tf.trainable_variables()]\n",
    "    values = session.run(variables_names) \n",
    "    idx = 0\n",
    "    for k, v in zip(tf.trainable_variables(), values):    \n",
    "        new_value = parameter_vector[idx:idx + v.size].reshape(v.shape)\n",
    "        k.load(new_value, session)  # load does not add a new node to the graph\n",
    "        idx += v.size"
   ]
  },
  {
   "cell_type": "code",
   "execution_count": 58,
   "metadata": {},
   "outputs": [],
   "source": [
    "# Simple evaluation function, just considering a single (random) start state\n",
    "def swing_motion(x, sess):\n",
    "    set_trainable_parameters(sess, x)\n",
    "    \n",
    "    rc.reset()\n",
    "    \n",
    "    R = 0\n",
    "    \n",
    "    starttime = time.time()\n",
    "    while time.time()-starttime <60 :\n",
    "        state = np.array((*rc.get_rate_and_angle(),rc.get_current_leg_pos()))\n",
    "        \n",
    "        out = sess.run(action, {inputs: state.reshape(1,*state.shape)})[0][0]\n",
    "        rc.move_legs(out)\n",
    "        \n",
    "        reward = rc.get_rate_and_angle()[0]\n",
    "        R +=reward\n",
    "            \n",
    "    return -R"
   ]
  },
  {
   "cell_type": "code",
   "execution_count": 51,
   "metadata": {},
   "outputs": [
    {
     "data": {
      "text/plain": [
       "0"
      ]
     },
     "execution_count": 51,
     "metadata": {},
     "output_type": "execute_result"
    }
   ],
   "source": [
    "#rc.move_legs([[0.]])\n",
    "int([[0.]][0][0])"
   ]
  },
  {
   "cell_type": "code",
   "execution_count": 55,
   "metadata": {},
   "outputs": [],
   "source": [
    "\n",
    "state_space_dimension = 3\n",
    "number_of_actions = 1\n",
    "number_of_hidden_neurons = 2\n",
    "\n",
    "rc = RobotControler(conn)\n"
   ]
  },
  {
   "cell_type": "code",
   "execution_count": null,
   "metadata": {},
   "outputs": [
    {
     "name": "stdout",
     "output_type": "stream",
     "text": [
      "(5_w,10)-aCMA-ES (mu_w=3.2,w_1=45%) in dimension 10 (seed=620082, Mon Jan 14 16:08:39 2019)\n",
      "Waiting to stand still. Avg acceleration in previous 3s: -0.9789486758689728\n",
      "Waiting to stand still. Avg acceleration in previous 3s: -0.04334671059213329\n",
      "Waiting to stand still. Avg acceleration in previous 3s: -0.033145547343636124\n",
      "Waiting to stand still. Avg acceleration in previous 3s: 0.039047299224755305\n",
      "Waiting to stand still. Avg acceleration in previous 3s: 0.023137187474274973\n",
      "Waiting to stand still. Avg acceleration in previous 3s: 0.0375218271492315\n",
      "Waiting to stand still. Avg acceleration in previous 3s: 0.03603761678832957\n",
      "Waiting to stand still. Avg acceleration in previous 3s: -0.00455896597931176\n",
      "Waiting to stand still. Avg acceleration in previous 3s: -1.2003932270194466\n",
      "Waiting to stand still. Avg acceleration in previous 3s: -0.25063607624033796\n",
      "Waiting to stand still. Avg acceleration in previous 3s: -0.027852220806233164\n",
      "Waiting to stand still. Avg acceleration in previous 3s: -0.06377403390055696\n",
      "Waiting to stand still. Avg acceleration in previous 3s: 0.12732622920024123\n",
      "Waiting to stand still. Avg acceleration in previous 3s: -0.07012353847430843\n",
      "Waiting to stand still. Avg acceleration in previous 3s: -0.08618480671098155\n",
      "Waiting to stand still. Avg acceleration in previous 3s: 0.05625966327952923\n",
      "Waiting to stand still. Avg acceleration in previous 3s: 0.12705554197720745\n",
      "Waiting to stand still. Avg acceleration in previous 3s: -0.10350062285977427\n",
      "Waiting to stand still. Avg acceleration in previous 3s: 0.10368458959613888\n",
      "Waiting to stand still. Avg acceleration in previous 3s: -0.011830785721719831\n",
      "Waiting to stand still. Avg acceleration in previous 3s: 0.16123952474829487\n",
      "Waiting to stand still. Avg acceleration in previous 3s: 0.005615587545476684\n",
      "Waiting to stand still. Avg acceleration in previous 3s: -1.8041758806056098\n",
      "Waiting to stand still. Avg acceleration in previous 3s: -0.18850735491578574\n",
      "Waiting to stand still. Avg acceleration in previous 3s: 0.06134609971385155\n",
      "Waiting to stand still. Avg acceleration in previous 3s: 0.1552018750021836\n",
      "Waiting to stand still. Avg acceleration in previous 3s: -0.0010961876034434649\n"
     ]
    }
   ],
   "source": [
    "tf.reset_default_graph()\n",
    "\n",
    "# Define policy network mapping state to action\n",
    "with tf.name_scope('policy_network'):\n",
    "    inputs = tf.placeholder(shape=[1, state_space_dimension],dtype=tf.float32) \n",
    "    hidden = tf.layers.dense(inputs, number_of_hidden_neurons, activation=tf.tanh, use_bias=True)\n",
    "    action = tf.layers.dense(hidden, number_of_actions, activation=tf.tanh, use_bias=False)\n",
    "\n",
    "# Do the learning\n",
    "init = tf.global_variables_initializer()\n",
    "with tf.Session() as sess:\n",
    "    sess.run(init)\n",
    "    sess.graph.finalize()  # graph is read-only after this statement\n",
    "    initial_weights = np.random.normal(0, 0.1, number_of_trainable_parameters(sess))\n",
    "    res = cma.fmin(swing_motion, initial_weights, 1, {'maxfevals': 500, 'ftarget':-199.9,}, args=([sess]))"
   ]
  }
 ],
 "metadata": {
  "kernelspec": {
   "display_name": "Python 3",
   "language": "python",
   "name": "python3"
  },
  "language_info": {
   "codemirror_mode": {
    "name": "ipython",
    "version": 3
   },
   "file_extension": ".py",
   "mimetype": "text/x-python",
   "name": "python",
   "nbconvert_exporter": "python",
   "pygments_lexer": "ipython3",
   "version": "3.6.5"
  }
 },
 "nbformat": 4,
 "nbformat_minor": 2
}
