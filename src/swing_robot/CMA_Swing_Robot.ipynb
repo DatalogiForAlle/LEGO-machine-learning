{
 "cells": [
  {
   "cell_type": "markdown",
   "metadata": {},
   "source": [
    "# CMA for CartPole"
   ]
  },
  {
   "cell_type": "code",
   "execution_count": 2,
   "metadata": {},
   "outputs": [],
   "source": [
    "import tensorflow as tf\n",
    "import numpy as np\n",
    "import matplotlib.pyplot as plt\n",
    "import cma\n",
    "import numpy as np\n",
    "import math\n",
    "import rpyc\n",
    "from IPython import display\n",
    "import time\n",
    "from sklearn.linear_model import LinearRegression"
   ]
  },
  {
   "cell_type": "code",
   "execution_count": 4,
   "metadata": {},
   "outputs": [],
   "source": [
    "try:\n",
    "    ROBOT_HOSTNAME = \"ev3dev.local\"\n",
    "    conn = rpyc.classic.connect(ROBOT_HOSTNAME)\n",
    "    conn.execute(\"print('Hello Slave. I am your master!')\")\n",
    "except:\n",
    "    raise Exception('No conection to rpyc server on robot possible! Is the robot conneced? Is the rpyc server started?')\n",
    "    \n"
   ]
  },
  {
   "cell_type": "code",
   "execution_count": 84,
   "metadata": {},
   "outputs": [],
   "source": [
    "class RobotControllerVerboseWrapper(RobotControler):\n",
    "    \"\"\"\n",
    "    Wrapper / decorator for the robot controller to add verbose logging\n",
    "    for design pattern see https://github.com/faif/python-patterns/blob/master/structural/decorator.py\n",
    "    \"\"\"\n",
    "    def __init__(self, robotControler):\n",
    "        self.wrapped = robotControler\n",
    "        self.last_move = time.time()\n",
    "        \n",
    "    def reset(self):\n",
    "        return self.wrapped.reset()\n",
    "    \n",
    "    def get_rate_and_angle(self):\n",
    "        return self.wrapped.get_rate_and_angle()\n",
    "    \n",
    "    def get_current_leg_pos(self):\n",
    "        return self.wrapped.get_current_leg_pos()\n",
    "    \n",
    "    def move_legs(self, pos):\n",
    "        print(\"Moving legs to {}, time since last move {}\".format(pos, time.time() - self.last_move))\n",
    "        self.last_move = time.time()\n",
    "        return self.wrapped.move_legs(pos)\n",
    "\n",
    "class RobotControllerExceptionWrapper(RobotControler):\n",
    "    \"\"\"\n",
    "    Wrapper / decorator for the robot controller to handle time out exceptions\n",
    "    for design pattern see https://github.com/faif/python-patterns/blob/master/structural/decorator.py\n",
    "    \"\"\"\n",
    "    def __init__(self, robotControler):\n",
    "        self.wrapped = robotControler\n",
    "        \n",
    "    def reset(self):\n",
    "        try:\n",
    "            return self.wrapped.reset()\n",
    "        except TimeoutError:\n",
    "            print('TimeoutError occured! retrying...')\n",
    "            time.sleep(3)\n",
    "            return self.reset()\n",
    "    \n",
    "    def get_rate_and_angle(self):\n",
    "        try:\n",
    "            return self.wrapped.get_rate_and_angle()\n",
    "        except TimeoutError:\n",
    "            print('TimeoutError occured! retrying...')\n",
    "            time.sleep(3)\n",
    "            return self.get_rate_and_angle()\n",
    "    \n",
    "    def get_current_leg_pos(self):\n",
    "        try:\n",
    "            return self.wrapped.get_current_leg_pos()\n",
    "        except TimeoutError:\n",
    "            print('TimeoutError occured! retrying...')\n",
    "            time.sleep(3)\n",
    "            return self.get_current_leg_pos()\n",
    "    \n",
    "    def move_legs(self, pos):\n",
    "        try:\n",
    "            return self.wrapped.move_legs(pos)\n",
    "        except TimeoutError:\n",
    "            print('TimeoutError occured! retrying...')\n",
    "            time.sleep(3)\n",
    "            return self.move_legs(pos)\n",
    "            \n",
    "\n",
    "class RobotController:\n",
    "    \"\"\"\n",
    "    The robot controller class.\n",
    "    \"\"\"\n",
    "    def __init__(self, connection):\n",
    "        motor_module = connection.modules['ev3dev2.motor']\n",
    "        self.motors = [motor_module.LargeMotor('outB'), motor_module.LargeMotor('outC')]\n",
    "        sensors = conn.modules['ev3dev2.sensor.lego'] \n",
    "        self.gyro = sensors.GyroSensor('in2')\n",
    "        \n",
    "        self.motors[0].stop_action = 'hold'\n",
    "        self.motors[1].stop_action = 'coast'\n",
    "        \n",
    "        self.up_position_degrees = -90 # position of legs fully in front\n",
    "        self.maxspeed = 80 # maximum speed of leg movement\n",
    "        self.minspeed = 3 # minimum speed of leg movement\n",
    "        self.angle_normalizer = 0.01\n",
    "        self.rate_normalizer = 0.01\n",
    "        \n",
    "        \n",
    "    \n",
    "    def reset(self):\n",
    "        \"\"\" resets the robot, performs calibration and maintainance, return when robot is reset.\n",
    "        Called at the start of each episode\"\"\"\n",
    "        # move legs to base position\n",
    "        self._move_motors_to_pos(0, 20)\n",
    "        self._wait_until_no_standstill(tolerance = 0.05)\n",
    "        _, angle = self.get_rate_and_angle()\n",
    "        if abs(angle) >= 0.04:\n",
    "            # drifted pretty far, recalibrate\n",
    "            self._wait_until_no_standstill(tolerance = 0.01)\n",
    "            self._calibrate_gyro()\n",
    "            return\n",
    "    \n",
    "    def get_rate_and_angle(self):\n",
    "        \"\"\" returns the rate and angle of the robot movement\"\"\"\n",
    "        angle, rate = self.gyro.rate_and_angle\n",
    "        return (rate * self.rate_normalizer, angle * self.angle_normalizer)\n",
    "\n",
    "    def get_current_leg_pos(self):\n",
    "        \"\"\" returns the curent leg pos, on a [-1, 1] interval\"\"\"\n",
    "        return self.motors[0].position /  self.up_position_degrees\n",
    "    \n",
    "    def move_legs(self, pos):\n",
    "        \"\"\" instructs the robot where to move its legs to, on a [-1, 1] interval. Function returns immediatly.\"\"\"\n",
    "        pos = max(-1., min(pos, 1.))\n",
    "        pos_now = self.get_current_leg_pos()\n",
    "        \n",
    "        s = abs(pos - pos_now) / 2 *  self.maxspeed\n",
    "        s = max(self.minspeed, min(s,  self.maxspeed))\n",
    "        \n",
    "        self._move_motors_to_pos(pos, s)\n",
    "        return\n",
    "    \n",
    "    def _move_motors_to_pos(self, pos, speed):\n",
    "        \"\"\"\n",
    "        moves the motors to a position [-1, 1] at speed [0,100].\n",
    "        \"\"\"\n",
    "        assert -1. <= pos <= 1.,\\\n",
    "                    \"{} is an invalid position, must be between -1 and 1 (inclusive)\".format(pos)\n",
    "        assert 0. <= speed <= 100.,\\\n",
    "                    \"{} is an invalid position, must be between -1 and 1 (inclusive)\".format(pos)\n",
    "        \n",
    "        self.motors[0].on_to_position(speed, position=pos*self.up_position_degrees, brake=True, block=False) # moves motors, non blocking.\n",
    "        return\n",
    "            \n",
    "            \n",
    "    def _calibrate_gyro(self):\n",
    "        print('calibrating gyro')\n",
    "        self.gyro.mode='GYRO-CAL'\n",
    "        time.sleep(1)\n",
    "        self.gyro.mode=\"GYRO-ANG\"\n",
    "        \n",
    "    def _wait_until_no_standstill(self, tolerance=0.01):\n",
    "        \"\"\"\n",
    "        waits until the gyro acceleration does not change for 3 seconds\n",
    "        \"\"\"\n",
    "        print(\"Waiting to stand still.\")\n",
    "        change = 9999\n",
    "        while abs(change) > tolerance: \n",
    "\n",
    "            rates = []\n",
    "            times = []\n",
    "            # sample for one second\n",
    "            t0 = t = time.time()\n",
    "            while t - t0 < 3:\n",
    "                _, rate = self.gyro.rate_and_angle\n",
    "                rates.append(rate)\n",
    "                t = time.time()\n",
    "                times.append(t)\n",
    "\n",
    "\n",
    "            # check change in accel with linreg\n",
    "            rates = abs(np.array(rates)) # take absolute rates so swinging doesnt cancel each other out\n",
    "            times = np.array(times)\n",
    "            lr = LinearRegression()\n",
    "            lr.fit(times[:, np.newaxis], rates)  \n",
    "            change = lr.coef_\n",
    "\n",
    "        return\n",
    "        "
   ]
  },
  {
   "cell_type": "code",
   "execution_count": 6,
   "metadata": {
    "collapsed": true
   },
   "outputs": [],
   "source": [
    "# Helper functions for setting the parameters of the neural network\n",
    "def number_of_trainable_parameters(session):\n",
    "    variables_names = [v.name for v in tf.trainable_variables()]\n",
    "    values = session.run(variables_names)    \n",
    "    number_of_parameters = 0\n",
    "    for v in values:\n",
    "        number_of_parameters += v.size\n",
    "    return number_of_parameters\n",
    "\n",
    "def set_trainable_parameters(session, parameter_vector):\n",
    "    assert number_of_trainable_parameters(session) == parameter_vector.size, \\\n",
    "      'number of parameters do not match: %r vs. %r' % (number_of_trainable_parameters(session), parameter_vector.size)\n",
    "    variables_names = [v.name for v in tf.trainable_variables()]\n",
    "    values = session.run(variables_names) \n",
    "    idx = 0\n",
    "    for k, v in zip(tf.trainable_variables(), values):    \n",
    "        new_value = parameter_vector[idx:idx + v.size].reshape(v.shape)\n",
    "        k.load(new_value, session)  # load does not add a new node to the graph\n",
    "        idx += v.size"
   ]
  },
  {
   "cell_type": "code",
   "execution_count": 13,
   "metadata": {
    "collapsed": true
   },
   "outputs": [],
   "source": [
    "# Simple evaluation function, just considering a single (random) start state\n",
    "def swing_motion(x, sess):\n",
    "    # set params to NN\n",
    "    set_trainable_parameters(sess, x)\n",
    "    \n",
    "    # reset swing\n",
    "    rc.reset()\n",
    "    \n",
    "    # simulate\n",
    "    reward = 0\n",
    "    starttime = time.time()\n",
    "    rate, angle = rc.get_rate_and_angle()\n",
    "    while time.time()-starttime <30 :\n",
    "        state = np.array((rate, angle, rc.get_current_leg_pos()))\n",
    "        \n",
    "        out = sess.run(action, {inputs: state.reshape(1,*state.shape)})[0][0]\n",
    "        rc.move_legs(out)\n",
    "        \n",
    "        rate, angle = rc.get_rate_and_angle()\n",
    "        reward = max(reward, abs(rate))\n",
    "    \n",
    "    # log rewards of session\n",
    "    print(\"total reward for session: \",reward)\n",
    "    weights.append(x)\n",
    "    timestep.append(starttime)\n",
    "    rewards.append(reward)\n",
    "    return -reward"
   ]
  },
  {
   "cell_type": "code",
   "execution_count": 24,
   "metadata": {
    "collapsed": true
   },
   "outputs": [],
   "source": [
    "\n",
    "state_space_dimension = 3\n",
    "number_of_actions = 1\n",
    "number_of_hidden_neurons = 2\n",
    "\n"
   ]
  },
  {
   "cell_type": "code",
   "execution_count": 87,
   "metadata": {},
   "outputs": [],
   "source": [
    "weights = []\n",
    "timestep = []\n",
    "rewards = []\n",
    "\n",
    "rc = RobotControllerExceptionWrapper(RobotController(conn))"
   ]
  },
  {
   "cell_type": "code",
   "execution_count": null,
   "metadata": {},
   "outputs": [
    {
     "name": "stdout",
     "output_type": "stream",
     "text": [
      "(4_w,8)-aCMA-ES (mu_w=2.6,w_1=52%) in dimension 4 (seed=553370, Mon Jan 14 19:13:27 2019)\n",
      "Waiting to stand still.\n",
      "Waiting to stand still.\n",
      "calibrating gyro\n",
      "total reward for session:  0.58\n",
      "Waiting to stand still.\n",
      "Waiting to stand still.\n",
      "calibrating gyro\n",
      "total reward for session:  0.54\n",
      "Waiting to stand still.\n",
      "Waiting to stand still.\n",
      "calibrating gyro\n"
     ]
    }
   ],
   "source": [
    "tf.reset_default_graph()\n",
    "\n",
    "# Define policy network mapping state to action\n",
    "with tf.name_scope('policy_network'):\n",
    "    inputs = tf.placeholder(shape=[1, state_space_dimension],dtype=tf.float32) \n",
    "    #hidden = tf.layers.dense(inputs, number_of_hidden_neurons, activation=tf.tanh, use_bias=True)\n",
    "    action = tf.layers.dense(inputs, number_of_actions, activation=tf.tanh, use_bias=True)\n",
    "\n",
    "# Do the learning\n",
    "init = tf.global_variables_initializer()\n",
    "with tf.Session() as sess:\n",
    "    sess.run(init)\n",
    "    sess.graph.finalize()  # graph is read-only after this statement\n",
    "    #initial_weights = np.random.normal(0, 0.1, number_of_trainable_parameters(sess))\n",
    "    # best guess for starting weights: \n",
    "    #     small bias of 0.2 to start the movement\n",
    "    #     large weight to move in the direction of the rate\n",
    "    #     smaller negative weight to move less extreme when on a far end\n",
    "    #     no factor for current  leg position, dont know what to take here\n",
    "    initial_weights = np.array([0.2, 10, -5, 0]) \n",
    "    res = cma.fmin(swing_motion, initial_weights, 1, {'maxfevals': 500, 'ftarget':-199.9,}, args=([sess]))"
   ]
  },
  {
   "cell_type": "code",
   "execution_count": 27,
   "metadata": {},
   "outputs": [
    {
     "data": {
      "text/plain": [
       "[array([ 0.89896458,  8.64999854, -5.71341281,  0.39210874]),\n",
       " array([-0.47508915,  9.83853278, -4.63218643, -0.66181056]),\n",
       " array([ -1.04210923,  12.39572818,  -4.1047249 ,  -0.54753429]),\n",
       " array([ 0.83088124,  9.54397637, -4.92070479,  1.1324909 ]),\n",
       " array([-0.10711642,  9.11363314, -5.1896802 ,  0.94962901])]"
      ]
     },
     "execution_count": 27,
     "metadata": {},
     "output_type": "execute_result"
    }
   ],
   "source": [
    "weights"
   ]
  },
  {
   "cell_type": "code",
   "execution_count": 28,
   "metadata": {},
   "outputs": [
    {
     "data": {
      "text/plain": [
       "[0.15, 0.19, 0.15, 0.19, 0.67]"
      ]
     },
     "execution_count": 28,
     "metadata": {},
     "output_type": "execute_result"
    }
   ],
   "source": [
    "rewards"
   ]
  }
 ],
 "metadata": {
  "kernelspec": {
   "display_name": "Python 3",
   "language": "python",
   "name": "python3"
  },
  "language_info": {
   "codemirror_mode": {
    "name": "ipython",
    "version": 3
   },
   "file_extension": ".py",
   "mimetype": "text/x-python",
   "name": "python",
   "nbconvert_exporter": "python",
   "pygments_lexer": "ipython3",
   "version": "3.6.3"
  }
 },
 "nbformat": 4,
 "nbformat_minor": 2
}
