{
 "cells": [
  {
   "cell_type": "code",
   "execution_count": null,
   "metadata": {},
   "outputs": [],
   "source": [
    "import rpyc\n",
    "import matplotlib.pyplot as plt\n",
    "conn = rpyc.classic.connect(\"ev3dev.local\") # host name or IP address of the EV3\n",
    "ev3 = conn.modules['ev3dev2']      # import ev3dev2.ev3 remotely\n",
    "\n",
    "legosensors=conn.modules['ev3dev2.sensor.lego']\n",
    "sensor_controls=conn.modules['ev3dev2.sensor']\n",
    "motor=conn.modules['ev3dev2.motor']\n",
    "m = motor.LargeMotor(\"outA\")\n",
    "\n",
    "out1=sensor_controls.INPUT_1\n",
    "out2=sensor_controls.INPUT_2\n",
    "\n",
    "touch = legosensors.TouchSensor(out1)\n",
    "touchstop = legosensors.TouchSensor(out2)\n"
   ]
  },
  {
   "cell_type": "markdown",
   "metadata": {},
   "source": [
    "This is two experiments to check the response speed of the robots.  \n",
    "First, the response speed of the sensors, and second, the response speed of the motors.\n",
    "\n",
    "# Sensor response experiment\n",
    "Setup: A button connected to the brick."
   ]
  },
  {
   "cell_type": "code",
   "execution_count": null,
   "metadata": {},
   "outputs": [],
   "source": [
    "reactlist=[]\n",
    "for _ in range(1000):\n",
    "\n",
    "    past=time.clock()\n",
    "    while True:\n",
    "        if not touch.is_pressed:\n",
    "\n",
    "            reactlist.append(time.clock()-past)\n",
    "            break"
   ]
  },
  {
   "cell_type": "markdown",
   "metadata": {},
   "source": [
    "# Motor response experiment\n",
    "Setup: A motor with an arm, hitting a button, see below.\n",
    "![Experiment](./Motor_react_speed.gif)"
   ]
  },
  {
   "cell_type": "code",
   "execution_count": null,
   "metadata": {},
   "outputs": [],
   "source": [
    "def useless():\n",
    "    past=time.clock()\n",
    "    stop=0\n",
    "    \n",
    "    # valid choices are BLACK,RED,GREEN,AMBER,ORANGE,YELLOW\n",
    "    #led.set_color(\"LEFT\", \"GREEN\")\n",
    "    #led.set_color(\"RIGHT\", \"GREEN\")\n",
    "\n",
    "\n",
    "    while stop==0:\n",
    "        m.on(-100) # starts general motion, does NOT have to be turned off to continue\n",
    "        \n",
    "        if touchstop.is_pressed:\n",
    "            retval=time.clock()-past\n",
    "            stop=1\n",
    "            m.on_for_degrees(20,10) #has to be completed for the robot to continue\n",
    "            #sound.speak(\"good bye\")\n",
    "            #led.set_color(\"LEFT\", \"RED\")\n",
    "            #led.set_color(\"RIGHT\", \"RED\")\n",
    "            m.off()\n",
    "            return(retval)"
   ]
  },
  {
   "cell_type": "code",
   "execution_count": null,
   "metadata": {},
   "outputs": [],
   "source": [
    "motorreactlist=[]\n",
    "for _ in range(1000):  \n",
    "    motorreactlist.append(useless())\n"
   ]
  },
  {
   "cell_type": "markdown",
   "metadata": {},
   "source": [
    "# Analysis of results"
   ]
  },
  {
   "cell_type": "code",
   "execution_count": 16,
   "metadata": {},
   "outputs": [],
   "source": [
    "# Load results from first run, this will overwrite your lists!\n",
    "import matplotlib.pyplot as plt\n",
    "import numpy as np\n",
    "\n",
    "F = open(\"reactlist.txt\",\"r\") \n",
    "button_preproc=F.read()\n",
    "F.close()\n",
    "# reactlist=[float(ele) for ele in button_preproc.replace(\",\",\"\").splitlines()]\n",
    "F = open(\"motorreactlist.txt\",\"r\") \n",
    "button_preproc=F.read()\n",
    "F.close()\n",
    "# motorreactlist=[float(ele) for ele in button_preproc.replace(\",\",\"\").splitlines()]\n"
   ]
  },
  {
   "cell_type": "code",
   "execution_count": 10,
   "metadata": {},
   "outputs": [],
   "source": []
  },
  {
   "cell_type": "code",
   "execution_count": 24,
   "metadata": {},
   "outputs": [
    {
     "name": "stdout",
     "output_type": "stream",
     "text": [
      "0.06580542673849102\n",
      "0.08472178950994202\n",
      "0.12383595950533077\n"
     ]
    },
    {
     "data": {
      "image/png": "[encoded data removed]",
      "text/plain": [
       "<Figure size 432x288 with 1 Axes>"
      ]
     },
     "metadata": {},
     "output_type": "display_data"
    }
   ],
   "source": [
    "reactmean=sum(reactlist)/len(reactlist)\n",
    "reactsecondmom=sum([val**2 for val in reactlist])/len(reactlist)\n",
    "reactvar=reactsecondmom-reactmean**2\n",
    "\n",
    "motor_without_sensor=[x-reactmean for x in motorreactlist]\n",
    "motormean=sum(motor_without_sensor)/len(motor_without_sensor)\n",
    "motorreactsecondmom=sum([val**2 for val in motor_without_sensor])/len(motor_without_sensor)\n",
    "motorreactvar=motorreactsecondmom-motormean**2\n",
    "print(motormean)\n",
    "print(sum(motorreactlist)/len(motorreactlist))\n",
    "print(np.percentile(motor_without_sensor,95))\n",
    "plt.hist(motor_without_sensor)\n",
    "plt.show()"
   ]
  },
  {
   "cell_type": "markdown",
   "metadata": {},
   "source": [
    "Sensor reaction speeds are generally quick, below 0,02 seconds, and the time distribution is not worrying. Motor reaction speeds (minus average button speed) show a similar pattern, but slightly slower. 95% of the observed motor reaction speeds were below 0,124 seconds."
   ]
  }
 ],
 "metadata": {
  "kernelspec": {
   "display_name": "Python 3",
   "language": "python",
   "name": "python3"
  },
  "language_info": {
   "codemirror_mode": {
    "name": "ipython",
    "version": 3
   },
   "file_extension": ".py",
   "mimetype": "text/x-python",
   "name": "python",
   "nbconvert_exporter": "python",
   "pygments_lexer": "ipython3",
   "version": "3.6.5"
  }
 },
 "nbformat": 4,
 "nbformat_minor": 2
}
