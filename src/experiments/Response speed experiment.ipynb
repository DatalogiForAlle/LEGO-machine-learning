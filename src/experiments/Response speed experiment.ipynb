{
 "cells": [
  {
   "cell_type": "code",
   "execution_count": 1,
   "metadata": {},
   "outputs": [],
   "source": [
    "import rpyc\n",
    "import matplotlib.pyplot as plt\n",
    "import pickle\n",
    "import numpy as np"
   ]
  },
  {
   "cell_type": "code",
   "execution_count": null,
   "metadata": {},
   "outputs": [],
   "source": [
    "conn = rpyc.classic.connect(\"ev3dev.local\") # host name or IP address of the EV3\n",
    "ev3 = conn.modules['ev3dev2']      # import ev3dev2.ev3 remotely\n",
    "\n",
    "legosensors=conn.modules['ev3dev2.sensor.lego']\n",
    "sensor_controls=conn.modules['ev3dev2.sensor']\n",
    "motor=conn.modules['ev3dev2.motor']\n",
    "m = motor.LargeMotor(\"outA\")\n",
    "\n",
    "out1=sensor_controls.INPUT_1\n",
    "out2=sensor_controls.INPUT_2\n",
    "\n",
    "touch = legosensors.TouchSensor(out1)\n",
    "touchstop = legosensors.TouchSensor(out2)\n"
   ]
  },
  {
   "cell_type": "markdown",
   "metadata": {},
   "source": [
    "This is two experiments to check the response speed of the robots.  \n",
    "First, the response speed of the sensors, and second, the response speed of the motors.\n",
    "\n",
    "# Sensor response experiment\n",
    "Setup: A button connected to the brick."
   ]
  },
  {
   "cell_type": "code",
   "execution_count": null,
   "metadata": {},
   "outputs": [],
   "source": [
    "reactlist=[]\n",
    "for _ in range(1000):\n",
    "\n",
    "    past=time.clock()\n",
    "    while True:\n",
    "        if not touch.is_pressed:\n",
    "\n",
    "            reactlist.append(time.clock()-past)\n",
    "            break"
   ]
  },
  {
   "cell_type": "markdown",
   "metadata": {},
   "source": [
    "# Motor response experiment\n",
    "Setup: A motor with an arm, hitting a button, see below.\n",
    "![Experiment](./Motor_react_speed.gif)"
   ]
  },
  {
   "cell_type": "code",
   "execution_count": null,
   "metadata": {},
   "outputs": [],
   "source": [
    "def useless():\n",
    "    past=time.clock()\n",
    "    stop=0\n",
    "    \n",
    "    # valid choices are BLACK,RED,GREEN,AMBER,ORANGE,YELLOW\n",
    "    #led.set_color(\"LEFT\", \"GREEN\")\n",
    "    #led.set_color(\"RIGHT\", \"GREEN\")\n",
    "\n",
    "\n",
    "    while stop==0:\n",
    "        m.on(-100) # starts general motion, does NOT have to be turned off to continue\n",
    "        \n",
    "        if touchstop.is_pressed:\n",
    "            retval=time.clock()-past\n",
    "            stop=1\n",
    "            m.on_for_degrees(20,10) #has to be completed for the robot to continue\n",
    "            #sound.speak(\"good bye\")\n",
    "            #led.set_color(\"LEFT\", \"RED\")\n",
    "            #led.set_color(\"RIGHT\", \"RED\")\n",
    "            m.off()\n",
    "            return(retval)"
   ]
  },
  {
   "cell_type": "code",
   "execution_count": null,
   "metadata": {},
   "outputs": [],
   "source": [
    "motorreactlist=[]\n",
    "for _ in range(1000):  \n",
    "    motorreactlist.append(useless())\n"
   ]
  },
  {
   "cell_type": "markdown",
   "metadata": {},
   "source": [
    "# Color Sensor experiments\n",
    "Comparison of RGB overservation vs RGB and ambient/reflected light.  \n",
    "Shows that observing several values takes up significantly more time."
   ]
  },
  {
   "cell_type": "code",
   "execution_count": null,
   "metadata": {},
   "outputs": [],
   "source": [
    "import time\n",
    "color_delay=[]\n",
    "for i in range(10000):\n",
    "    start=time.clock()\n",
    "    color_raw=[ele/(255/2)-1 for ele in color.rgb]+[color.reflected_light_intensity/50-1]+[color.ambient_light_intensity/50-1]\n",
    "    color_delay.append(time.clock()-start)"
   ]
  },
  {
   "cell_type": "code",
   "execution_count": null,
   "metadata": {},
   "outputs": [],
   "source": [
    "color_delay_rgb_only=[]\n",
    "for i in range(10000):\n",
    "    start=time.clock()\n",
    "    color_raw=[ele/(255/2)-1 for ele in color.rgb]\n",
    "    color_delay_rgb_only.append(time.clock()-start)"
   ]
  },
  {
   "cell_type": "code",
   "execution_count": null,
   "metadata": {},
   "outputs": [],
   "source": [
    "with open('color_delay_all.pkl', 'wb') as fp:\n",
    "    pickle.dump(color_delay, fp)\n",
    "with open('color_delay_rgb_only.pkl', 'wb') as fp:\n",
    "    pickle.dump(color_delay_rgb_only, fp)"
   ]
  },
  {
   "cell_type": "markdown",
   "metadata": {},
   "source": [
    "# Analysis of results"
   ]
  },
  {
   "cell_type": "code",
   "execution_count": 2,
   "metadata": {},
   "outputs": [],
   "source": [
    "# Load results from first run, this will overwrite your lists!\n",
    "\n",
    "F = open(\"reactlist.txt\",\"r\") \n",
    "button_preproc=F.read()\n",
    "F.close()\n",
    "reactlist=[float(ele) for ele in button_preproc.replace(\",\",\"\").splitlines()]\n",
    "F = open(\"motorreactlist.txt\",\"r\") \n",
    "button_preproc=F.read()\n",
    "F.close()\n",
    "motorreactlist=[float(ele) for ele in button_preproc.replace(\",\",\"\").splitlines()]\n"
   ]
  },
  {
   "cell_type": "code",
   "execution_count": 10,
   "metadata": {},
   "outputs": [],
   "source": []
  },
  {
   "cell_type": "code",
   "execution_count": 7,
   "metadata": {},
   "outputs": [
    {
     "name": "stdout",
     "output_type": "stream",
     "text": [
      "mean motor response: 0.06580542673849102\n",
      "motor response variance: 0.00035714790451572137\n",
      "95% percentile motor response time: 0.12383595950533077\n",
      "mean button response: 0.018916362771452384\n",
      "button response variance: 4.791217001945793e-06\n",
      "95% percentile button response time: 0.022499045028254727\n"
     ]
    },
    {
     "data": {
      "image/png": "[encoded data removed]",
      "text/plain": [
       "<Figure size 648x360 with 1 Axes>"
      ]
     },
     "metadata": {},
     "output_type": "display_data"
    }
   ],
   "source": [
    "reactmean=sum(reactlist)/len(reactlist)\n",
    "reactsecondmom=sum([val**2 for val in reactlist])/len(reactlist)\n",
    "reactvar=reactsecondmom-reactmean**2\n",
    "\n",
    "motor_without_sensor=[x-reactmean for x in motorreactlist]\n",
    "motormean=sum(motor_without_sensor)/len(motor_without_sensor)\n",
    "motorreactsecondmom=sum([val**2 for val in motor_without_sensor])/len(motor_without_sensor)\n",
    "motorreactvar=motorreactsecondmom-motormean**2\n",
    "print(\"mean motor response:\",motormean)\n",
    "print(\"motor response variance:\",motorreactvar)\n",
    "print(\"95% percentile motor response time:\",np.percentile(motor_without_sensor,95))\n",
    "print(\"mean button response:\",reactmean)\n",
    "print(\"button response variance:\",reactvar)\n",
    "print(\"95% percentile button response time:\",np.percentile(reactlist,95))\n",
    "\n",
    "fig=plt.figure(figsize=(9, 5))\n",
    "plt.hist(motor_without_sensor,label=\"Motor response\")\n",
    "plt.hist(reactlist,label=\"Button response\")\n",
    "plt.xlabel(\"Response time, seconds\")\n",
    "plt.ylabel(\"Observations\")\n",
    "plt.legend()\n",
    "plt.show()"
   ]
  },
  {
   "cell_type": "markdown",
   "metadata": {},
   "source": [
    "Sensor reaction speeds are generally quick, below 0,02 seconds, and the time distribution is not worrying. Motor reaction speeds (minus average button speed) show a similar pattern, but slightly slower. 95% of the observed motor reaction speeds were below 0,124 seconds.  \n",
    "Colour reaction speeds are as expected of a normal sensor. In the below code, \"colour\" refers to observed colour, abient light and reflected light, where \"rgb\" only refers to observed colour"
   ]
  },
  {
   "cell_type": "code",
   "execution_count": 8,
   "metadata": {},
   "outputs": [],
   "source": [
    "with open(\"color_delay_all.pkl\",\"rb\") as file:\n",
    "    color_delay          = pickle.load(file)\n",
    "with open(\"color_delay_rgb_only.pkl\",\"rb\") as file:\n",
    "    color_delay_rgb_only = pickle.load(file)\n",
    "    "
   ]
  },
  {
   "cell_type": "code",
   "execution_count": 9,
   "metadata": {},
   "outputs": [
    {
     "name": "stdout",
     "output_type": "stream",
     "text": [
      "mean colour response: 0.22751678050465285\n",
      "colour response variance: 0.00038331602385920094\n",
      "95% percentile colour response time: 0.25840986494728213\n",
      "mean rgb response: 0.062080969867517294\n",
      "rgb response variance: 0.0001074491998927841\n",
      "95% percentile rgb response time: 0.07739746994968755\n"
     ]
    }
   ],
   "source": [
    "colourmean=sum(color_delay)/len(color_delay)\n",
    "coloursecondmom=sum([val**2 for val in color_delay])/len(color_delay)\n",
    "colourvar=coloursecondmom-colourmean**2\n",
    "rgbmean=sum(color_delay_rgb_only)/len(color_delay_rgb_only)\n",
    "rgbsecondmom=sum([val**2 for val in color_delay_rgb_only])/len(color_delay_rgb_only)\n",
    "rgbvar=rgbsecondmom-rgbmean**2\n",
    "\n",
    "\n",
    "print(\"mean colour response:\",colourmean)\n",
    "print(\"colour response variance:\",colourvar)\n",
    "print(\"95% percentile colour response time:\",np.percentile(color_delay,95))\n",
    "print(\"mean rgb response:\",rgbmean)\n",
    "print(\"rgb response variance:\",rgbvar)\n",
    "print(\"95% percentile rgb response time:\",np.percentile(color_delay_rgb_only,95))\n"
   ]
  },
  {
   "cell_type": "code",
   "execution_count": 10,
   "metadata": {},
   "outputs": [
    {
     "data": {
      "image/png": "[encoded data removed]",
      "text/plain": [
       "<Figure size 648x360 with 1 Axes>"
      ]
     },
     "metadata": {},
     "output_type": "display_data"
    }
   ],
   "source": [
    "fig=plt.figure(figsize=(9, 5))\n",
    "plt.hist(color_delay,label=\"colour delay all\")\n",
    "plt.hist([ele for ele in color_delay_rgb_only],label=\"colour delay RGB only\") # try ele*3\n",
    "plt.xlabel(\"Response time, seconds\")\n",
    "plt.ylabel(\"Observations\")\n",
    "plt.legend()\n",
    "plt.show()"
   ]
  }
 ],
 "metadata": {
  "kernelspec": {
   "display_name": "Python 3",
   "language": "python",
   "name": "python3"
  },
  "language_info": {
   "codemirror_mode": {
    "name": "ipython",
    "version": 3
   },
   "file_extension": ".py",
   "mimetype": "text/x-python",
   "name": "python",
   "nbconvert_exporter": "python",
   "pygments_lexer": "ipython3",
   "version": "3.6.5"
  }
 },
 "nbformat": 4,
 "nbformat_minor": 2
}
