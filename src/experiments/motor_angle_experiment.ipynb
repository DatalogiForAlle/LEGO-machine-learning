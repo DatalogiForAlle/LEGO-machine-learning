{
 "cells": [
  {
   "cell_type": "markdown",
   "metadata": {},
   "source": [
    "# Motor angle experiment\n",
    "In this experiment we determine how accurate the angles measured and steered to by the motors are. Consistency in these measurments is important in learning, as the actions performed by the robot should always lead to the same result. If the result will change over time, we have an adviserial enviroment, which would make the learning task much harder."
   ]
  },
  {
   "cell_type": "markdown",
   "metadata": {},
   "source": [
    "### Experimental setup:\n",
    "\n",
    "The angle accuracy is dertimed by repeatadly moving the motots back and forth by 90 degrees using the functions `on_for_degrees()` and `move_to_pos()`. We measure the angle of offset externally every 25 movements.\n",
    "\n",
    "We compare a motor whithout weight, and one that has a small weight to move. We further test the motor stopping settings of `'brake'` and `'hold'`. \n",
    "\n",
    "See the figure for the experimental setup.\n",
    "\n",
    "![Experiment](./angle_experiment.jpg)"
   ]
  },
  {
   "cell_type": "markdown",
   "metadata": {},
   "source": [
    "# Results\n",
    "\n",
    "We note that at the start, the slack (the amount that the arms can rotate without the motors breaking the movement) is 13 degrees on both motors. This even with high angle accuracy, there is always significant slack in movements.\n",
    "\n",
    "| Motor                                    | 25 iterations | 50it | 75it | 100it |\n",
    "|------------------------------------------|---------------|------|------|-------|\n",
    "| move relational, not weighted, holding   | 1             | 1    | 2    | 2     |\n",
    "| move relational, weighted, holding       | 9             | 11   | 35   | 45    |\n",
    "| move relational, not weighted, breaking  | 1             | 1    | 1    | 2     |\n",
    "| move relational, weighted, breaking      | 35            | 50   | >50  | >50   |\n",
    "| move to position, not weighted, holding  | 0             | 1    | 2    | 1     |\n",
    "| move to position, not weighted, breaking | 0             | 1    | 2    | 2     |\n",
    "| move to position, weighted, holding      | 2             | 1    | 4    | 3     |\n",
    "| move to position, weighted, braking      | 0             | 1    | 1    | 2     |\n",
    "Angle offsets after 25, 50, 75, 100 up and down movements.\n",
    "\n",
    "As we can see, the motor setting 'hold' is better at keeping angles than `'brake'`. A weighted arm is more inprecise than a non weighted one. Most importantly, the relational moves do accumulate significant inaccuracies, while the moves to an absolute position are very accurate.\n",
    "\n",
    "In conclusion, using the motor with movements to an absolute position with `on_to_position()` yields the most consistent results. The breaking action has only a small impact on the result when using absolute movements. Repeated relative movements are inaccurate and should not be used.\n"
   ]
  },
  {
   "cell_type": "code",
   "execution_count": 108,
   "metadata": {
    "collapsed": true
   },
   "outputs": [],
   "source": [
    "import rpyc\n",
    "import time\n",
    "from IPython.display import display, clear_output"
   ]
  },
  {
   "cell_type": "code",
   "execution_count": 109,
   "metadata": {
    "collapsed": true
   },
   "outputs": [],
   "source": [
    "ROBOT_HOSTNAME = \"ev3dev.local\""
   ]
  },
  {
   "cell_type": "code",
   "execution_count": 111,
   "metadata": {
    "scrolled": true
   },
   "outputs": [],
   "source": [
    "conn = rpyc.classic.connect(ROBOT_HOSTNAME)\n",
    "conn.execute(\"print('Hello Slave. I am your master!')\")"
   ]
  },
  {
   "cell_type": "code",
   "execution_count": 116,
   "metadata": {},
   "outputs": [],
   "source": [
    "motors = conn.modules['ev3dev2.motor'] \n",
    "m1 = motors.LargeMotor('outA')\n",
    "m1.stop_action = 'hold'\n",
    "m2 = motors.LargeMotor('outB')\n",
    "m2.stop_action = 'hold'"
   ]
  },
  {
   "cell_type": "code",
   "execution_count": 56,
   "metadata": {
    "collapsed": true
   },
   "outputs": [],
   "source": [
    "def run_x_times(x):\n",
    "    for i in range(x):\n",
    "        m1.on_for_degrees(20, degrees=90)\n",
    "        m2.on_for_degrees(20, degrees=90)\n",
    "        m1.on_for_degrees(-20, degrees=90)\n",
    "        m2.on_for_degrees(-20, degrees=90)"
   ]
  },
  {
   "cell_type": "code",
   "execution_count": 92,
   "metadata": {},
   "outputs": [],
   "source": [
    "run_x_times(25)"
   ]
  },
  {
   "cell_type": "code",
   "execution_count": 105,
   "metadata": {},
   "outputs": [
    {
     "name": "stdout",
     "output_type": "stream",
     "text": [
      "0\n",
      "-4\n"
     ]
    }
   ],
   "source": [
    "print(m1.position)\n",
    "print(m2.position)"
   ]
  },
  {
   "cell_type": "code",
   "execution_count": 104,
   "metadata": {
    "collapsed": true
   },
   "outputs": [],
   "source": [
    "m2.position = 0"
   ]
  },
  {
   "cell_type": "code",
   "execution_count": 103,
   "metadata": {},
   "outputs": [],
   "source": [
    "m2.on_for_degrees(-20, degrees=5)"
   ]
  },
  {
   "cell_type": "markdown",
   "metadata": {},
   "source": [
    "# Retry, this tim with `on_to_position()`"
   ]
  },
  {
   "cell_type": "code",
   "execution_count": 113,
   "metadata": {},
   "outputs": [
    {
     "name": "stdout",
     "output_type": "stream",
     "text": [
      "0\n",
      "0\n"
     ]
    }
   ],
   "source": [
    "print(m1.position)\n",
    "print(m2.position)"
   ]
  },
  {
   "cell_type": "code",
   "execution_count": 117,
   "metadata": {
    "collapsed": true
   },
   "outputs": [],
   "source": [
    "def run_x_times2(x):\n",
    "    for i in range(x):\n",
    "        m1.on_to_position(20, position=90)\n",
    "        m2.on_to_position(20, position=90)\n",
    "        m1.on_to_position(20, position=0)\n",
    "        m2.on_to_position(20, position=0)"
   ]
  },
  {
   "cell_type": "code",
   "execution_count": 118,
   "metadata": {
    "collapsed": true
   },
   "outputs": [],
   "source": [
    "run_x_times2(25)"
   ]
  }
 ],
 "metadata": {
  "kernelspec": {
   "display_name": "Python 3",
   "language": "python",
   "name": "python3"
  },
  "language_info": {
   "codemirror_mode": {
    "name": "ipython",
    "version": 3
   },
   "file_extension": ".py",
   "mimetype": "text/x-python",
   "name": "python",
   "nbconvert_exporter": "python",
   "pygments_lexer": "ipython3",
   "version": "3.6.3"
  }
 },
 "nbformat": 4,
 "nbformat_minor": 2
}
